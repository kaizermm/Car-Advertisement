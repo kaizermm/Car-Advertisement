{
 "cells": [
  {
   "attachments": {},
   "cell_type": "markdown",
   "metadata": {},
   "source": [
    "# Unveiling the Driving Factors: Exploring the Influences on Car Prices"
   ]
  },
  {
   "attachments": {},
   "cell_type": "markdown",
   "metadata": {},
   "source": [
    "As an analyst at Crankshaft List, delving into the world of car sales is an exhilarating experience. Each day, our platform witnesses a surge of free vehicle advertisements, painting a vivid picture of the market's dynamics.Through a comprehensive analysis of our vast vehicles ads database, we aim to shed light on the pivotal factors that wield the greatest influence when it comes to selling a car."
   ]
  },
  {
   "attachments": {},
   "cell_type": "markdown",
   "metadata": {},
   "source": [
    "### Table of content"
   ]
  },
  {
   "attachments": {},
   "cell_type": "markdown",
   "metadata": {},
   "source": [
    "<span style='color:blue'>\n",
    "\n",
    "1.Introduction\n",
    "  \n",
    "\n",
    "2.General Information\n",
    "\n",
    "\n",
    "3.First Impressions\n",
    " \n",
    "4.Data Preprocessing\n",
    "  \n",
    "5.Exploratory Data Analysis\n",
    "\n",
    "6.Unveiling Top Car Types\n",
    "  \n",
    " 7.Unraveling Price Factors\n",
    "  \n",
    "8.General Conclusions: Insights and Takeaways\n",
    "\n",
    "9.Conclusion and Project Completion Checklist"
   ]
  },
  {
   "attachments": {},
   "cell_type": "markdown",
   "metadata": {},
   "source": [
    "### Introduction"
   ]
  },
  {
   "attachments": {},
   "cell_type": "markdown",
   "metadata": {},
   "source": [
    "Welcome to the fascinating world of car sales analysis! In this analysis, we will delve into car sales data and embark on a journey to uncover the factors that play a pivotal role in influencing car prices.\n",
    "\n",
    "Car sales are a dynamic and ever-evolving market, with hundreds of transactions taking place every day. Understanding the intricate web of variables that contribute to price fluctuations is crucial for both buyers and sellers in making informed decisions."
   ]
  },
  {
   "attachments": {},
   "cell_type": "markdown",
   "metadata": {},
   "source": [
    "### General information"
   ]
  },
  {
   "cell_type": "code",
   "execution_count": 197,
   "metadata": {},
   "outputs": [],
   "source": [
    "# Loading all the libraries\n",
    "import pandas as pd\n",
    "import plotly.express as px\n",
    "from pandas.plotting import scatter_matrix\n",
    "import datetime\n",
    "import numpy as np\n",
    "import streamlit as st\n",
    "import matplotlib.pyplot as plt\n",
    "import seaborn as sns\n",
    "\n"
   ]
  },
  {
   "attachments": {},
   "cell_type": "markdown",
   "metadata": {},
   "source": [
    "Load the dataset."
   ]
  },
  {
   "cell_type": "code",
   "execution_count": 147,
   "metadata": {},
   "outputs": [],
   "source": [
    "try:\n",
    "    vehicle_ad_data=pd.read_csv('/Users/lelou/Car-Advertisement/vehicles_us.csv')\n",
    "except:\n",
    "    vehicle_ad_data=pd.read_csv('https://code.s3.yandex.net/datasets/vehicles_us.csv')"
   ]
  },
  {
   "cell_type": "code",
   "execution_count": 148,
   "metadata": {},
   "outputs": [
    {
     "name": "stdout",
     "output_type": "stream",
     "text": [
      "<class 'pandas.core.frame.DataFrame'>\n",
      "RangeIndex: 51525 entries, 0 to 51524\n",
      "Data columns (total 13 columns):\n",
      " #   Column        Non-Null Count  Dtype  \n",
      "---  ------        --------------  -----  \n",
      " 0   price         51525 non-null  int64  \n",
      " 1   model_year    47906 non-null  float64\n",
      " 2   model         51525 non-null  object \n",
      " 3   condition     51525 non-null  object \n",
      " 4   cylinders     46265 non-null  float64\n",
      " 5   fuel          51525 non-null  object \n",
      " 6   odometer      43633 non-null  float64\n",
      " 7   transmission  51525 non-null  object \n",
      " 8   type          51525 non-null  object \n",
      " 9   paint_color   42258 non-null  object \n",
      " 10  is_4wd        25572 non-null  float64\n",
      " 11  date_posted   51525 non-null  object \n",
      " 12  days_listed   51525 non-null  int64  \n",
      "dtypes: float64(4), int64(2), object(7)\n",
      "memory usage: 5.1+ MB\n"
     ]
    }
   ],
   "source": [
    "vehicle_ad_data.info()"
   ]
  },
  {
   "attachments": {},
   "cell_type": "markdown",
   "metadata": {},
   "source": [
    "\n",
    "The \"vehicle_us\" dataset consists of 51,525 entries with 13 columns, providing information about vehicles available for sale. It includes details like price, model year, model, condition, cylinders, fuel, odometer, transmission, type, paint color, is_4wd, date posted, and days listed. The dataset contains a mix of numeric and categorical data, with some columns having missing values. Overall, analyzing this dataset can offer insights into the used vehicle market and factors affecting pricing and desirability."
   ]
  },
  {
   "attachments": {},
   "cell_type": "markdown",
   "metadata": {},
   "source": [
    "### First Impressions"
   ]
  },
  {
   "cell_type": "code",
   "execution_count": 149,
   "metadata": {},
   "outputs": [
    {
     "data": {
      "text/html": [
       "<div>\n",
       "<style scoped>\n",
       "    .dataframe tbody tr th:only-of-type {\n",
       "        vertical-align: middle;\n",
       "    }\n",
       "\n",
       "    .dataframe tbody tr th {\n",
       "        vertical-align: top;\n",
       "    }\n",
       "\n",
       "    .dataframe thead th {\n",
       "        text-align: right;\n",
       "    }\n",
       "</style>\n",
       "<table border=\"1\" class=\"dataframe\">\n",
       "  <thead>\n",
       "    <tr style=\"text-align: right;\">\n",
       "      <th></th>\n",
       "      <th>price</th>\n",
       "      <th>model_year</th>\n",
       "      <th>model</th>\n",
       "      <th>condition</th>\n",
       "      <th>cylinders</th>\n",
       "      <th>fuel</th>\n",
       "      <th>odometer</th>\n",
       "      <th>transmission</th>\n",
       "      <th>type</th>\n",
       "      <th>paint_color</th>\n",
       "      <th>is_4wd</th>\n",
       "      <th>date_posted</th>\n",
       "      <th>days_listed</th>\n",
       "    </tr>\n",
       "  </thead>\n",
       "  <tbody>\n",
       "    <tr>\n",
       "      <th>0</th>\n",
       "      <td>9400</td>\n",
       "      <td>2011.0</td>\n",
       "      <td>bmw x5</td>\n",
       "      <td>good</td>\n",
       "      <td>6.0</td>\n",
       "      <td>gas</td>\n",
       "      <td>145000.0</td>\n",
       "      <td>automatic</td>\n",
       "      <td>SUV</td>\n",
       "      <td>NaN</td>\n",
       "      <td>1.0</td>\n",
       "      <td>2018-06-23</td>\n",
       "      <td>19</td>\n",
       "    </tr>\n",
       "    <tr>\n",
       "      <th>1</th>\n",
       "      <td>25500</td>\n",
       "      <td>NaN</td>\n",
       "      <td>ford f-150</td>\n",
       "      <td>good</td>\n",
       "      <td>6.0</td>\n",
       "      <td>gas</td>\n",
       "      <td>88705.0</td>\n",
       "      <td>automatic</td>\n",
       "      <td>pickup</td>\n",
       "      <td>white</td>\n",
       "      <td>1.0</td>\n",
       "      <td>2018-10-19</td>\n",
       "      <td>50</td>\n",
       "    </tr>\n",
       "    <tr>\n",
       "      <th>2</th>\n",
       "      <td>5500</td>\n",
       "      <td>2013.0</td>\n",
       "      <td>hyundai sonata</td>\n",
       "      <td>like new</td>\n",
       "      <td>4.0</td>\n",
       "      <td>gas</td>\n",
       "      <td>110000.0</td>\n",
       "      <td>automatic</td>\n",
       "      <td>sedan</td>\n",
       "      <td>red</td>\n",
       "      <td>NaN</td>\n",
       "      <td>2019-02-07</td>\n",
       "      <td>79</td>\n",
       "    </tr>\n",
       "    <tr>\n",
       "      <th>3</th>\n",
       "      <td>1500</td>\n",
       "      <td>2003.0</td>\n",
       "      <td>ford f-150</td>\n",
       "      <td>fair</td>\n",
       "      <td>8.0</td>\n",
       "      <td>gas</td>\n",
       "      <td>NaN</td>\n",
       "      <td>automatic</td>\n",
       "      <td>pickup</td>\n",
       "      <td>NaN</td>\n",
       "      <td>NaN</td>\n",
       "      <td>2019-03-22</td>\n",
       "      <td>9</td>\n",
       "    </tr>\n",
       "    <tr>\n",
       "      <th>4</th>\n",
       "      <td>14900</td>\n",
       "      <td>2017.0</td>\n",
       "      <td>chrysler 200</td>\n",
       "      <td>excellent</td>\n",
       "      <td>4.0</td>\n",
       "      <td>gas</td>\n",
       "      <td>80903.0</td>\n",
       "      <td>automatic</td>\n",
       "      <td>sedan</td>\n",
       "      <td>black</td>\n",
       "      <td>NaN</td>\n",
       "      <td>2019-04-02</td>\n",
       "      <td>28</td>\n",
       "    </tr>\n",
       "    <tr>\n",
       "      <th>5</th>\n",
       "      <td>14990</td>\n",
       "      <td>2014.0</td>\n",
       "      <td>chrysler 300</td>\n",
       "      <td>excellent</td>\n",
       "      <td>6.0</td>\n",
       "      <td>gas</td>\n",
       "      <td>57954.0</td>\n",
       "      <td>automatic</td>\n",
       "      <td>sedan</td>\n",
       "      <td>black</td>\n",
       "      <td>1.0</td>\n",
       "      <td>2018-06-20</td>\n",
       "      <td>15</td>\n",
       "    </tr>\n",
       "    <tr>\n",
       "      <th>6</th>\n",
       "      <td>12990</td>\n",
       "      <td>2015.0</td>\n",
       "      <td>toyota camry</td>\n",
       "      <td>excellent</td>\n",
       "      <td>4.0</td>\n",
       "      <td>gas</td>\n",
       "      <td>79212.0</td>\n",
       "      <td>automatic</td>\n",
       "      <td>sedan</td>\n",
       "      <td>white</td>\n",
       "      <td>NaN</td>\n",
       "      <td>2018-12-27</td>\n",
       "      <td>73</td>\n",
       "    </tr>\n",
       "    <tr>\n",
       "      <th>7</th>\n",
       "      <td>15990</td>\n",
       "      <td>2013.0</td>\n",
       "      <td>honda pilot</td>\n",
       "      <td>excellent</td>\n",
       "      <td>6.0</td>\n",
       "      <td>gas</td>\n",
       "      <td>109473.0</td>\n",
       "      <td>automatic</td>\n",
       "      <td>SUV</td>\n",
       "      <td>black</td>\n",
       "      <td>1.0</td>\n",
       "      <td>2019-01-07</td>\n",
       "      <td>68</td>\n",
       "    </tr>\n",
       "    <tr>\n",
       "      <th>8</th>\n",
       "      <td>11500</td>\n",
       "      <td>2012.0</td>\n",
       "      <td>kia sorento</td>\n",
       "      <td>excellent</td>\n",
       "      <td>4.0</td>\n",
       "      <td>gas</td>\n",
       "      <td>104174.0</td>\n",
       "      <td>automatic</td>\n",
       "      <td>SUV</td>\n",
       "      <td>NaN</td>\n",
       "      <td>1.0</td>\n",
       "      <td>2018-07-16</td>\n",
       "      <td>19</td>\n",
       "    </tr>\n",
       "    <tr>\n",
       "      <th>9</th>\n",
       "      <td>9200</td>\n",
       "      <td>2008.0</td>\n",
       "      <td>honda pilot</td>\n",
       "      <td>excellent</td>\n",
       "      <td>NaN</td>\n",
       "      <td>gas</td>\n",
       "      <td>147191.0</td>\n",
       "      <td>automatic</td>\n",
       "      <td>SUV</td>\n",
       "      <td>blue</td>\n",
       "      <td>1.0</td>\n",
       "      <td>2019-02-15</td>\n",
       "      <td>17</td>\n",
       "    </tr>\n",
       "    <tr>\n",
       "      <th>10</th>\n",
       "      <td>19500</td>\n",
       "      <td>2011.0</td>\n",
       "      <td>chevrolet silverado 1500</td>\n",
       "      <td>excellent</td>\n",
       "      <td>8.0</td>\n",
       "      <td>gas</td>\n",
       "      <td>128413.0</td>\n",
       "      <td>automatic</td>\n",
       "      <td>pickup</td>\n",
       "      <td>black</td>\n",
       "      <td>1.0</td>\n",
       "      <td>2018-09-17</td>\n",
       "      <td>38</td>\n",
       "    </tr>\n",
       "    <tr>\n",
       "      <th>11</th>\n",
       "      <td>8990</td>\n",
       "      <td>2012.0</td>\n",
       "      <td>honda accord</td>\n",
       "      <td>excellent</td>\n",
       "      <td>4.0</td>\n",
       "      <td>gas</td>\n",
       "      <td>111142.0</td>\n",
       "      <td>automatic</td>\n",
       "      <td>sedan</td>\n",
       "      <td>grey</td>\n",
       "      <td>NaN</td>\n",
       "      <td>2019-03-28</td>\n",
       "      <td>29</td>\n",
       "    </tr>\n",
       "    <tr>\n",
       "      <th>12</th>\n",
       "      <td>18990</td>\n",
       "      <td>2012.0</td>\n",
       "      <td>ram 1500</td>\n",
       "      <td>excellent</td>\n",
       "      <td>8.0</td>\n",
       "      <td>gas</td>\n",
       "      <td>140742.0</td>\n",
       "      <td>automatic</td>\n",
       "      <td>pickup</td>\n",
       "      <td>NaN</td>\n",
       "      <td>1.0</td>\n",
       "      <td>2019-04-02</td>\n",
       "      <td>37</td>\n",
       "    </tr>\n",
       "    <tr>\n",
       "      <th>13</th>\n",
       "      <td>16500</td>\n",
       "      <td>2018.0</td>\n",
       "      <td>hyundai sonata</td>\n",
       "      <td>excellent</td>\n",
       "      <td>4.0</td>\n",
       "      <td>gas</td>\n",
       "      <td>22104.0</td>\n",
       "      <td>automatic</td>\n",
       "      <td>sedan</td>\n",
       "      <td>silver</td>\n",
       "      <td>NaN</td>\n",
       "      <td>2019-01-14</td>\n",
       "      <td>29</td>\n",
       "    </tr>\n",
       "    <tr>\n",
       "      <th>14</th>\n",
       "      <td>12990</td>\n",
       "      <td>2009.0</td>\n",
       "      <td>gmc yukon</td>\n",
       "      <td>excellent</td>\n",
       "      <td>8.0</td>\n",
       "      <td>gas</td>\n",
       "      <td>132285.0</td>\n",
       "      <td>automatic</td>\n",
       "      <td>SUV</td>\n",
       "      <td>black</td>\n",
       "      <td>1.0</td>\n",
       "      <td>2019-01-31</td>\n",
       "      <td>24</td>\n",
       "    </tr>\n",
       "    <tr>\n",
       "      <th>15</th>\n",
       "      <td>17990</td>\n",
       "      <td>2013.0</td>\n",
       "      <td>ram 1500</td>\n",
       "      <td>excellent</td>\n",
       "      <td>8.0</td>\n",
       "      <td>gas</td>\n",
       "      <td>NaN</td>\n",
       "      <td>automatic</td>\n",
       "      <td>pickup</td>\n",
       "      <td>red</td>\n",
       "      <td>1.0</td>\n",
       "      <td>2018-05-15</td>\n",
       "      <td>111</td>\n",
       "    </tr>\n",
       "    <tr>\n",
       "      <th>16</th>\n",
       "      <td>14990</td>\n",
       "      <td>2010.0</td>\n",
       "      <td>ram 1500</td>\n",
       "      <td>excellent</td>\n",
       "      <td>8.0</td>\n",
       "      <td>gas</td>\n",
       "      <td>130725.0</td>\n",
       "      <td>automatic</td>\n",
       "      <td>pickup</td>\n",
       "      <td>red</td>\n",
       "      <td>1.0</td>\n",
       "      <td>2018-12-30</td>\n",
       "      <td>13</td>\n",
       "    </tr>\n",
       "    <tr>\n",
       "      <th>17</th>\n",
       "      <td>13990</td>\n",
       "      <td>2014.0</td>\n",
       "      <td>jeep cherokee</td>\n",
       "      <td>excellent</td>\n",
       "      <td>6.0</td>\n",
       "      <td>gas</td>\n",
       "      <td>100669.0</td>\n",
       "      <td>automatic</td>\n",
       "      <td>SUV</td>\n",
       "      <td>red</td>\n",
       "      <td>1.0</td>\n",
       "      <td>2018-08-16</td>\n",
       "      <td>25</td>\n",
       "    </tr>\n",
       "    <tr>\n",
       "      <th>18</th>\n",
       "      <td>12500</td>\n",
       "      <td>2013.0</td>\n",
       "      <td>chevrolet traverse</td>\n",
       "      <td>excellent</td>\n",
       "      <td>6.0</td>\n",
       "      <td>gas</td>\n",
       "      <td>128325.0</td>\n",
       "      <td>automatic</td>\n",
       "      <td>SUV</td>\n",
       "      <td>white</td>\n",
       "      <td>1.0</td>\n",
       "      <td>2019-04-09</td>\n",
       "      <td>13</td>\n",
       "    </tr>\n",
       "    <tr>\n",
       "      <th>19</th>\n",
       "      <td>13990</td>\n",
       "      <td>2018.0</td>\n",
       "      <td>hyundai elantra</td>\n",
       "      <td>excellent</td>\n",
       "      <td>4.0</td>\n",
       "      <td>gas</td>\n",
       "      <td>31932.0</td>\n",
       "      <td>automatic</td>\n",
       "      <td>sedan</td>\n",
       "      <td>red</td>\n",
       "      <td>NaN</td>\n",
       "      <td>2018-08-25</td>\n",
       "      <td>27</td>\n",
       "    </tr>\n",
       "  </tbody>\n",
       "</table>\n",
       "</div>"
      ],
      "text/plain": [
       "    price  model_year                     model  condition  cylinders fuel  \\\n",
       "0    9400      2011.0                    bmw x5       good        6.0  gas   \n",
       "1   25500         NaN                ford f-150       good        6.0  gas   \n",
       "2    5500      2013.0            hyundai sonata   like new        4.0  gas   \n",
       "3    1500      2003.0                ford f-150       fair        8.0  gas   \n",
       "4   14900      2017.0              chrysler 200  excellent        4.0  gas   \n",
       "5   14990      2014.0              chrysler 300  excellent        6.0  gas   \n",
       "6   12990      2015.0              toyota camry  excellent        4.0  gas   \n",
       "7   15990      2013.0               honda pilot  excellent        6.0  gas   \n",
       "8   11500      2012.0               kia sorento  excellent        4.0  gas   \n",
       "9    9200      2008.0               honda pilot  excellent        NaN  gas   \n",
       "10  19500      2011.0  chevrolet silverado 1500  excellent        8.0  gas   \n",
       "11   8990      2012.0              honda accord  excellent        4.0  gas   \n",
       "12  18990      2012.0                  ram 1500  excellent        8.0  gas   \n",
       "13  16500      2018.0            hyundai sonata  excellent        4.0  gas   \n",
       "14  12990      2009.0                 gmc yukon  excellent        8.0  gas   \n",
       "15  17990      2013.0                  ram 1500  excellent        8.0  gas   \n",
       "16  14990      2010.0                  ram 1500  excellent        8.0  gas   \n",
       "17  13990      2014.0             jeep cherokee  excellent        6.0  gas   \n",
       "18  12500      2013.0        chevrolet traverse  excellent        6.0  gas   \n",
       "19  13990      2018.0           hyundai elantra  excellent        4.0  gas   \n",
       "\n",
       "    odometer transmission    type paint_color  is_4wd date_posted  days_listed  \n",
       "0   145000.0    automatic     SUV         NaN     1.0  2018-06-23           19  \n",
       "1    88705.0    automatic  pickup       white     1.0  2018-10-19           50  \n",
       "2   110000.0    automatic   sedan         red     NaN  2019-02-07           79  \n",
       "3        NaN    automatic  pickup         NaN     NaN  2019-03-22            9  \n",
       "4    80903.0    automatic   sedan       black     NaN  2019-04-02           28  \n",
       "5    57954.0    automatic   sedan       black     1.0  2018-06-20           15  \n",
       "6    79212.0    automatic   sedan       white     NaN  2018-12-27           73  \n",
       "7   109473.0    automatic     SUV       black     1.0  2019-01-07           68  \n",
       "8   104174.0    automatic     SUV         NaN     1.0  2018-07-16           19  \n",
       "9   147191.0    automatic     SUV        blue     1.0  2019-02-15           17  \n",
       "10  128413.0    automatic  pickup       black     1.0  2018-09-17           38  \n",
       "11  111142.0    automatic   sedan        grey     NaN  2019-03-28           29  \n",
       "12  140742.0    automatic  pickup         NaN     1.0  2019-04-02           37  \n",
       "13   22104.0    automatic   sedan      silver     NaN  2019-01-14           29  \n",
       "14  132285.0    automatic     SUV       black     1.0  2019-01-31           24  \n",
       "15       NaN    automatic  pickup         red     1.0  2018-05-15          111  \n",
       "16  130725.0    automatic  pickup         red     1.0  2018-12-30           13  \n",
       "17  100669.0    automatic     SUV         red     1.0  2018-08-16           25  \n",
       "18  128325.0    automatic     SUV       white     1.0  2019-04-09           13  \n",
       "19   31932.0    automatic   sedan         red     NaN  2018-08-25           27  "
      ]
     },
     "execution_count": 149,
     "metadata": {},
     "output_type": "execute_result"
    }
   ],
   "source": [
    "#look at a sample of data for first 20 rows\n",
    "vehicle_ad_data.head(20)"
   ]
  },
  {
   "cell_type": "code",
   "execution_count": 150,
   "metadata": {},
   "outputs": [
    {
     "data": {
      "text/html": [
       "<div>\n",
       "<style scoped>\n",
       "    .dataframe tbody tr th:only-of-type {\n",
       "        vertical-align: middle;\n",
       "    }\n",
       "\n",
       "    .dataframe tbody tr th {\n",
       "        vertical-align: top;\n",
       "    }\n",
       "\n",
       "    .dataframe thead th {\n",
       "        text-align: right;\n",
       "    }\n",
       "</style>\n",
       "<table border=\"1\" class=\"dataframe\">\n",
       "  <thead>\n",
       "    <tr style=\"text-align: right;\">\n",
       "      <th></th>\n",
       "      <th>count</th>\n",
       "      <th>unique</th>\n",
       "      <th>top</th>\n",
       "      <th>freq</th>\n",
       "    </tr>\n",
       "  </thead>\n",
       "  <tbody>\n",
       "    <tr>\n",
       "      <th>model</th>\n",
       "      <td>51525</td>\n",
       "      <td>100</td>\n",
       "      <td>ford f-150</td>\n",
       "      <td>2796</td>\n",
       "    </tr>\n",
       "    <tr>\n",
       "      <th>condition</th>\n",
       "      <td>51525</td>\n",
       "      <td>6</td>\n",
       "      <td>excellent</td>\n",
       "      <td>24773</td>\n",
       "    </tr>\n",
       "    <tr>\n",
       "      <th>fuel</th>\n",
       "      <td>51525</td>\n",
       "      <td>5</td>\n",
       "      <td>gas</td>\n",
       "      <td>47288</td>\n",
       "    </tr>\n",
       "    <tr>\n",
       "      <th>transmission</th>\n",
       "      <td>51525</td>\n",
       "      <td>3</td>\n",
       "      <td>automatic</td>\n",
       "      <td>46902</td>\n",
       "    </tr>\n",
       "    <tr>\n",
       "      <th>type</th>\n",
       "      <td>51525</td>\n",
       "      <td>13</td>\n",
       "      <td>SUV</td>\n",
       "      <td>12405</td>\n",
       "    </tr>\n",
       "    <tr>\n",
       "      <th>paint_color</th>\n",
       "      <td>42258</td>\n",
       "      <td>12</td>\n",
       "      <td>white</td>\n",
       "      <td>10029</td>\n",
       "    </tr>\n",
       "    <tr>\n",
       "      <th>date_posted</th>\n",
       "      <td>51525</td>\n",
       "      <td>354</td>\n",
       "      <td>2019-03-17</td>\n",
       "      <td>186</td>\n",
       "    </tr>\n",
       "  </tbody>\n",
       "</table>\n",
       "</div>"
      ],
      "text/plain": [
       "              count unique         top   freq\n",
       "model         51525    100  ford f-150   2796\n",
       "condition     51525      6   excellent  24773\n",
       "fuel          51525      5         gas  47288\n",
       "transmission  51525      3   automatic  46902\n",
       "type          51525     13         SUV  12405\n",
       "paint_color   42258     12       white  10029\n",
       "date_posted   51525    354  2019-03-17    186"
      ]
     },
     "execution_count": 150,
     "metadata": {},
     "output_type": "execute_result"
    }
   ],
   "source": [
    "# A summary statistics table for categorical columns in a DataFrame\n",
    "vehicle_ad_data.describe(include='object').T"
   ]
  },
  {
   "attachments": {},
   "cell_type": "markdown",
   "metadata": {},
   "source": [
    "The dataset contains information on 51,525 vehicles. The most popular vehicle model is the \"Ford F-150\" with 2,796 occurrences. A significant number of vehicles are listed as being in \"excellent\" condition (24,773 entries). The majority of vehicles run on \"gas\" fuel (47,288 entries) and have \"automatic\" transmission (46,902 entries). The most frequently listed vehicle type is \"SUV\" (12,405 entries). The most common paint color is \"white\" (10,029 entries), and the vehicles were posted on 354 different dates, with the most frequent date being \"2019-03-17\" (186 occurrences)."
   ]
  },
  {
   "attachments": {},
   "cell_type": "markdown",
   "metadata": {},
   "source": [
    "## Data Preprocessing"
   ]
  },
  {
   "attachments": {},
   "cell_type": "markdown",
   "metadata": {},
   "source": [
    "### Processing missing value"
   ]
  },
  {
   "cell_type": "code",
   "execution_count": 151,
   "metadata": {},
   "outputs": [
    {
     "name": "stdout",
     "output_type": "stream",
     "text": [
      "total number of row : 51525\n"
     ]
    },
    {
     "data": {
      "text/plain": [
       "price               0\n",
       "model_year       3619\n",
       "model               0\n",
       "condition           0\n",
       "cylinders        5260\n",
       "fuel                0\n",
       "odometer         7892\n",
       "transmission        0\n",
       "type                0\n",
       "paint_color      9267\n",
       "is_4wd          25953\n",
       "date_posted         0\n",
       "days_listed         0\n",
       "dtype: int64"
      ]
     },
     "execution_count": 151,
     "metadata": {},
     "output_type": "execute_result"
    }
   ],
   "source": [
    "#count number of null in the dataset\n",
    "print('total number of row :',len(vehicle_ad_data))\n",
    "vehicle_ad_data.isna().sum()\n"
   ]
  },
  {
   "cell_type": "code",
   "execution_count": 152,
   "metadata": {},
   "outputs": [
    {
     "data": {
      "text/plain": [
       "price            0.000000\n",
       "model_year       7.023775\n",
       "model            0.000000\n",
       "condition        0.000000\n",
       "cylinders       10.208637\n",
       "fuel             0.000000\n",
       "odometer        15.316836\n",
       "transmission     0.000000\n",
       "type             0.000000\n",
       "paint_color     17.985444\n",
       "is_4wd          50.369723\n",
       "date_posted      0.000000\n",
       "days_listed      0.000000\n",
       "dtype: float64"
      ]
     },
     "execution_count": 152,
     "metadata": {},
     "output_type": "execute_result"
    }
   ],
   "source": [
    "#Propotion of missing value compare to the whole percentage in percent\n",
    "propor_miss_percent = (vehicle_ad_data.isnull().sum() / len(vehicle_ad_data)) * 100\n",
    "propor_miss_percent"
   ]
  },
  {
   "attachments": {},
   "cell_type": "markdown",
   "metadata": {},
   "source": [
    "<span style='color:blue'>\n",
    "The dataset analysis reveals intriguing insights:\n",
    "\n",
    "-Missing values are present across multiple columns, except for the \"price\" column which is complete.\n",
    "\n",
    "-The \"model_year\" column has 3,619 missing values, creating uncertainty about the manufacturing year of certain vehicles.\n",
    "\n",
    "-The \"cylinders\" column shows 5,260 missing values, suggesting a lack of cylinder information.\n",
    "\n",
    "-The \"odometer\" column has 7,892 missing values, indicating a lack of distance traveled data.\n",
    "\n",
    "-The \"paint_color\" column has 9,267 missing values, leaving color information unknown.\n",
    "\n",
    "-Surprisingly, the \"is_4wd\" column has 25,953 missing values, with almost half of the available values being 1. These missing values could potentially be interpreted as 0.\n",
    "\n",
    "-Possible reasons for missing values include intentional omission, data entry errors, incomplete information from sellers, and even incorrect measurements or equipment errors.\n",
    "\n",
    "-Anomalies like unusually low prices raise concerns about data quality.\n",
    "Effective data cleaning and imputation techniques are crucial to ensure accurate and comprehensive analysis."
   ]
  },
  {
   "attachments": {},
   "cell_type": "markdown",
   "metadata": {},
   "source": [
    "### Step to fill in missing data"
   ]
  },
  {
   "cell_type": "code",
   "execution_count": 153,
   "metadata": {},
   "outputs": [
    {
     "data": {
      "text/html": [
       "<div>\n",
       "<style scoped>\n",
       "    .dataframe tbody tr th:only-of-type {\n",
       "        vertical-align: middle;\n",
       "    }\n",
       "\n",
       "    .dataframe tbody tr th {\n",
       "        vertical-align: top;\n",
       "    }\n",
       "\n",
       "    .dataframe thead th {\n",
       "        text-align: right;\n",
       "    }\n",
       "</style>\n",
       "<table border=\"1\" class=\"dataframe\">\n",
       "  <thead>\n",
       "    <tr style=\"text-align: right;\">\n",
       "      <th></th>\n",
       "      <th>price</th>\n",
       "      <th>model_year</th>\n",
       "      <th>model</th>\n",
       "      <th>condition</th>\n",
       "      <th>cylinders</th>\n",
       "      <th>fuel</th>\n",
       "      <th>odometer</th>\n",
       "      <th>transmission</th>\n",
       "      <th>type</th>\n",
       "      <th>paint_color</th>\n",
       "      <th>is_4wd</th>\n",
       "      <th>date_posted</th>\n",
       "      <th>days_listed</th>\n",
       "    </tr>\n",
       "  </thead>\n",
       "  <tbody>\n",
       "    <tr>\n",
       "      <th>0</th>\n",
       "      <td>9400</td>\n",
       "      <td>2011.0</td>\n",
       "      <td>bmw x5</td>\n",
       "      <td>good</td>\n",
       "      <td>6.0</td>\n",
       "      <td>gas</td>\n",
       "      <td>145000.0</td>\n",
       "      <td>automatic</td>\n",
       "      <td>SUV</td>\n",
       "      <td>NaN</td>\n",
       "      <td>1</td>\n",
       "      <td>2018-06-23</td>\n",
       "      <td>19</td>\n",
       "    </tr>\n",
       "    <tr>\n",
       "      <th>1</th>\n",
       "      <td>25500</td>\n",
       "      <td>NaN</td>\n",
       "      <td>ford f-150</td>\n",
       "      <td>good</td>\n",
       "      <td>6.0</td>\n",
       "      <td>gas</td>\n",
       "      <td>88705.0</td>\n",
       "      <td>automatic</td>\n",
       "      <td>pickup</td>\n",
       "      <td>white</td>\n",
       "      <td>1</td>\n",
       "      <td>2018-10-19</td>\n",
       "      <td>50</td>\n",
       "    </tr>\n",
       "    <tr>\n",
       "      <th>2</th>\n",
       "      <td>5500</td>\n",
       "      <td>2013.0</td>\n",
       "      <td>hyundai sonata</td>\n",
       "      <td>like new</td>\n",
       "      <td>4.0</td>\n",
       "      <td>gas</td>\n",
       "      <td>110000.0</td>\n",
       "      <td>automatic</td>\n",
       "      <td>sedan</td>\n",
       "      <td>red</td>\n",
       "      <td>0</td>\n",
       "      <td>2019-02-07</td>\n",
       "      <td>79</td>\n",
       "    </tr>\n",
       "    <tr>\n",
       "      <th>3</th>\n",
       "      <td>1500</td>\n",
       "      <td>2003.0</td>\n",
       "      <td>ford f-150</td>\n",
       "      <td>fair</td>\n",
       "      <td>8.0</td>\n",
       "      <td>gas</td>\n",
       "      <td>NaN</td>\n",
       "      <td>automatic</td>\n",
       "      <td>pickup</td>\n",
       "      <td>NaN</td>\n",
       "      <td>0</td>\n",
       "      <td>2019-03-22</td>\n",
       "      <td>9</td>\n",
       "    </tr>\n",
       "    <tr>\n",
       "      <th>4</th>\n",
       "      <td>14900</td>\n",
       "      <td>2017.0</td>\n",
       "      <td>chrysler 200</td>\n",
       "      <td>excellent</td>\n",
       "      <td>4.0</td>\n",
       "      <td>gas</td>\n",
       "      <td>80903.0</td>\n",
       "      <td>automatic</td>\n",
       "      <td>sedan</td>\n",
       "      <td>black</td>\n",
       "      <td>0</td>\n",
       "      <td>2019-04-02</td>\n",
       "      <td>28</td>\n",
       "    </tr>\n",
       "  </tbody>\n",
       "</table>\n",
       "</div>"
      ],
      "text/plain": [
       "   price  model_year           model  condition  cylinders fuel  odometer  \\\n",
       "0   9400      2011.0          bmw x5       good        6.0  gas  145000.0   \n",
       "1  25500         NaN      ford f-150       good        6.0  gas   88705.0   \n",
       "2   5500      2013.0  hyundai sonata   like new        4.0  gas  110000.0   \n",
       "3   1500      2003.0      ford f-150       fair        8.0  gas       NaN   \n",
       "4  14900      2017.0    chrysler 200  excellent        4.0  gas   80903.0   \n",
       "\n",
       "  transmission    type paint_color  is_4wd date_posted  days_listed  \n",
       "0    automatic     SUV         NaN       1  2018-06-23           19  \n",
       "1    automatic  pickup       white       1  2018-10-19           50  \n",
       "2    automatic   sedan         red       0  2019-02-07           79  \n",
       "3    automatic  pickup         NaN       0  2019-03-22            9  \n",
       "4    automatic   sedan       black       0  2019-04-02           28  "
      ]
     },
     "execution_count": 153,
     "metadata": {},
     "output_type": "execute_result"
    }
   ],
   "source": [
    "# Fill the NaNs in is_4wd column with zeros since the column contains either 1 or 0\n",
    "vehicle_ad_data['is_4wd'].fillna(value= 0.0, inplace=True)\n",
    "vehicle_ad_data['is_4wd'] = vehicle_ad_data['is_4wd'].astype(int)\n",
    "vehicle_ad_data.head()"
   ]
  },
  {
   "cell_type": "code",
   "execution_count": 233,
   "metadata": {},
   "outputs": [
    {
     "name": "stdout",
     "output_type": "stream",
     "text": [
      "[   6    4    8 2009 2010    5 2008 2004 2012 2015 2017 2007 2013 2011\n",
      "   10 2014 1997 2006    3 2003   12]\n"
     ]
    }
   ],
   "source": [
    "#Fill missing value in model_year column with the median of cars of the same model\n",
    "vehicle_ad_data['model_year'].fillna(\n",
    "    vehicle_ad_data.groupby(['model'])['model_year'].transform(np.median), inplace=True\n",
    ")\n",
    "unique_cylinders = vehicle_ad_data['cylinders'].unique()\n",
    "print(unique_cylinders)"
   ]
  },
  {
   "attachments": {},
   "cell_type": "markdown",
   "metadata": {},
   "source": [
    "By using the median to fill in missing 'model_year' values, we are choosing a value that is representative of the central tendency of the data. It provides a reasonable estimate for the missing values without being skewed by extreme values which is 'model_year' min value is 1908 and max value 2019 "
   ]
  },
  {
   "cell_type": "code",
   "execution_count": 234,
   "metadata": {},
   "outputs": [
    {
     "name": "stdout",
     "output_type": "stream",
     "text": [
      "[ 6  4  8  5 10  3 12]\n"
     ]
    }
   ],
   "source": [
    "# Fill missing values in 'cylinders' based on car model\n",
    "vehicle_ad_data['cylinders'].fillna(\n",
    "    vehicle_ad_data.groupby(['model'])['cylinders'].transform('median'), inplace=True\n",
    ")\n",
    "\n",
    "# Filter out incorrect values with 4 characters\n",
    "vehicle_ad_data = vehicle_ad_data[vehicle_ad_data['cylinders'].astype(str).str.len() < 4]\n",
    "\n"
   ]
  },
  {
   "attachments": {},
   "cell_type": "markdown",
   "metadata": {},
   "source": [
    "The cylinders column represents discrete values, and using the meadian could be appropriate as there no outliers or extreme values that might heavily influence the mean as both mean value of 'cylinders' is 6 which is in reasonable range compare to the min value 3 and max value 12"
   ]
  },
  {
   "cell_type": "code",
   "execution_count": 156,
   "metadata": {},
   "outputs": [],
   "source": [
    "#Filled last missing odometer values of same listing with the mean value \n",
    "vehicle_ad_data['odometer'].fillna((vehicle_ad_data['odometer'].mean()), inplace=True)"
   ]
  },
  {
   "cell_type": "code",
   "execution_count": 229,
   "metadata": {},
   "outputs": [],
   "source": [
    "# change the missing values from 'paint_color' with the most occuring color from mode\n",
    "vehicle_ad_data['paint_color'] = vehicle_ad_data.groupby('model')['paint_color'].transform(lambda x: x.fillna(x.mode().iloc[0]))"
   ]
  },
  {
   "cell_type": "code",
   "execution_count": 230,
   "metadata": {},
   "outputs": [
    {
     "data": {
      "text/html": [
       "<div>\n",
       "<style scoped>\n",
       "    .dataframe tbody tr th:only-of-type {\n",
       "        vertical-align: middle;\n",
       "    }\n",
       "\n",
       "    .dataframe tbody tr th {\n",
       "        vertical-align: top;\n",
       "    }\n",
       "\n",
       "    .dataframe thead th {\n",
       "        text-align: right;\n",
       "    }\n",
       "</style>\n",
       "<table border=\"1\" class=\"dataframe\">\n",
       "  <thead>\n",
       "    <tr style=\"text-align: right;\">\n",
       "      <th></th>\n",
       "      <th>price</th>\n",
       "      <th>model_year</th>\n",
       "      <th>cylinders</th>\n",
       "      <th>odometer</th>\n",
       "      <th>is_4wd</th>\n",
       "      <th>date_posted</th>\n",
       "      <th>days_listed</th>\n",
       "      <th>year_posted</th>\n",
       "      <th>Car_Age</th>\n",
       "      <th>Car_mileage</th>\n",
       "      <th>ad_duration</th>\n",
       "    </tr>\n",
       "  </thead>\n",
       "  <tbody>\n",
       "    <tr>\n",
       "      <th>count</th>\n",
       "      <td>51525.000000</td>\n",
       "      <td>51525.000000</td>\n",
       "      <td>51525.000000</td>\n",
       "      <td>51525.000000</td>\n",
       "      <td>51525.000000</td>\n",
       "      <td>51525</td>\n",
       "      <td>51525</td>\n",
       "      <td>51525.000000</td>\n",
       "      <td>51525.000000</td>\n",
       "      <td>49373.000000</td>\n",
       "      <td>51525</td>\n",
       "    </tr>\n",
       "    <tr>\n",
       "      <th>mean</th>\n",
       "      <td>12132.464920</td>\n",
       "      <td>2009.793557</td>\n",
       "      <td>210.621019</td>\n",
       "      <td>115553.391014</td>\n",
       "      <td>0.496303</td>\n",
       "      <td>2018-10-25 01:57:46.270742528</td>\n",
       "      <td>39 days 13:18:51.248908297</td>\n",
       "      <td>2018.307462</td>\n",
       "      <td>9.513906</td>\n",
       "      <td>18466.992628</td>\n",
       "      <td>2018-12-03 15:16:37.519650560</td>\n",
       "    </tr>\n",
       "    <tr>\n",
       "      <th>min</th>\n",
       "      <td>1.000000</td>\n",
       "      <td>1908.000000</td>\n",
       "      <td>3.000000</td>\n",
       "      <td>0.000000</td>\n",
       "      <td>0.000000</td>\n",
       "      <td>2018-05-01 00:00:00</td>\n",
       "      <td>0 days 00:00:00</td>\n",
       "      <td>2018.000000</td>\n",
       "      <td>1.000000</td>\n",
       "      <td>0.000000</td>\n",
       "      <td>2018-05-04 00:00:00</td>\n",
       "    </tr>\n",
       "    <tr>\n",
       "      <th>25%</th>\n",
       "      <td>5000.000000</td>\n",
       "      <td>2007.000000</td>\n",
       "      <td>4.000000</td>\n",
       "      <td>79181.000000</td>\n",
       "      <td>0.000000</td>\n",
       "      <td>2018-07-29 00:00:00</td>\n",
       "      <td>19 days 00:00:00</td>\n",
       "      <td>2018.000000</td>\n",
       "      <td>5.000000</td>\n",
       "      <td>10495.000000</td>\n",
       "      <td>2018-09-06 00:00:00</td>\n",
       "    </tr>\n",
       "    <tr>\n",
       "      <th>50%</th>\n",
       "      <td>9000.000000</td>\n",
       "      <td>2011.000000</td>\n",
       "      <td>6.000000</td>\n",
       "      <td>115553.000000</td>\n",
       "      <td>0.000000</td>\n",
       "      <td>2018-10-25 00:00:00</td>\n",
       "      <td>33 days 00:00:00</td>\n",
       "      <td>2018.000000</td>\n",
       "      <td>9.000000</td>\n",
       "      <td>14929.000000</td>\n",
       "      <td>2018-12-03 00:00:00</td>\n",
       "    </tr>\n",
       "    <tr>\n",
       "      <th>75%</th>\n",
       "      <td>16839.000000</td>\n",
       "      <td>2014.000000</td>\n",
       "      <td>8.000000</td>\n",
       "      <td>146541.000000</td>\n",
       "      <td>1.000000</td>\n",
       "      <td>2019-01-21 00:00:00</td>\n",
       "      <td>53 days 00:00:00</td>\n",
       "      <td>2019.000000</td>\n",
       "      <td>13.000000</td>\n",
       "      <td>21679.000000</td>\n",
       "      <td>2019-03-02 00:00:00</td>\n",
       "    </tr>\n",
       "    <tr>\n",
       "      <th>max</th>\n",
       "      <td>375000.000000</td>\n",
       "      <td>2019.000000</td>\n",
       "      <td>2017.000000</td>\n",
       "      <td>990000.000000</td>\n",
       "      <td>1.000000</td>\n",
       "      <td>2019-04-19 00:00:00</td>\n",
       "      <td>271 days 00:00:00</td>\n",
       "      <td>2019.000000</td>\n",
       "      <td>111.000000</td>\n",
       "      <td>279365.000000</td>\n",
       "      <td>2019-11-23 00:00:00</td>\n",
       "    </tr>\n",
       "    <tr>\n",
       "      <th>std</th>\n",
       "      <td>10040.803015</td>\n",
       "      <td>6.099381</td>\n",
       "      <td>606.490265</td>\n",
       "      <td>59902.205520</td>\n",
       "      <td>0.499991</td>\n",
       "      <td>NaN</td>\n",
       "      <td>28 days 04:54:08.916817944</td>\n",
       "      <td>0.461447</td>\n",
       "      <td>6.112976</td>\n",
       "      <td>15130.619064</td>\n",
       "      <td>NaN</td>\n",
       "    </tr>\n",
       "  </tbody>\n",
       "</table>\n",
       "</div>"
      ],
      "text/plain": [
       "               price    model_year     cylinders       odometer        is_4wd  \\\n",
       "count   51525.000000  51525.000000  51525.000000   51525.000000  51525.000000   \n",
       "mean    12132.464920   2009.793557    210.621019  115553.391014      0.496303   \n",
       "min         1.000000   1908.000000      3.000000       0.000000      0.000000   \n",
       "25%      5000.000000   2007.000000      4.000000   79181.000000      0.000000   \n",
       "50%      9000.000000   2011.000000      6.000000  115553.000000      0.000000   \n",
       "75%     16839.000000   2014.000000      8.000000  146541.000000      1.000000   \n",
       "max    375000.000000   2019.000000   2017.000000  990000.000000      1.000000   \n",
       "std     10040.803015      6.099381    606.490265   59902.205520      0.499991   \n",
       "\n",
       "                         date_posted                 days_listed  \\\n",
       "count                          51525                       51525   \n",
       "mean   2018-10-25 01:57:46.270742528  39 days 13:18:51.248908297   \n",
       "min              2018-05-01 00:00:00             0 days 00:00:00   \n",
       "25%              2018-07-29 00:00:00            19 days 00:00:00   \n",
       "50%              2018-10-25 00:00:00            33 days 00:00:00   \n",
       "75%              2019-01-21 00:00:00            53 days 00:00:00   \n",
       "max              2019-04-19 00:00:00           271 days 00:00:00   \n",
       "std                              NaN  28 days 04:54:08.916817944   \n",
       "\n",
       "        year_posted       Car_Age    Car_mileage  \\\n",
       "count  51525.000000  51525.000000   49373.000000   \n",
       "mean    2018.307462      9.513906   18466.992628   \n",
       "min     2018.000000      1.000000       0.000000   \n",
       "25%     2018.000000      5.000000   10495.000000   \n",
       "50%     2018.000000      9.000000   14929.000000   \n",
       "75%     2019.000000     13.000000   21679.000000   \n",
       "max     2019.000000    111.000000  279365.000000   \n",
       "std        0.461447      6.112976   15130.619064   \n",
       "\n",
       "                         ad_duration  \n",
       "count                          51525  \n",
       "mean   2018-12-03 15:16:37.519650560  \n",
       "min              2018-05-04 00:00:00  \n",
       "25%              2018-09-06 00:00:00  \n",
       "50%              2018-12-03 00:00:00  \n",
       "75%              2019-03-02 00:00:00  \n",
       "max              2019-11-23 00:00:00  \n",
       "std                              NaN  "
      ]
     },
     "execution_count": 230,
     "metadata": {},
     "output_type": "execute_result"
    }
   ],
   "source": [
    "vehicle_ad_data.describe()"
   ]
  },
  {
   "cell_type": "code",
   "execution_count": 159,
   "metadata": {},
   "outputs": [
    {
     "name": "stdout",
     "output_type": "stream",
     "text": [
      "price           0\n",
      "model_year      0\n",
      "model           0\n",
      "condition       0\n",
      "cylinders       0\n",
      "fuel            0\n",
      "odometer        0\n",
      "transmission    0\n",
      "type            0\n",
      "paint_color     0\n",
      "is_4wd          0\n",
      "date_posted     0\n",
      "days_listed     0\n",
      "dtype: int64\n"
     ]
    }
   ],
   "source": [
    "# Make sure the table contains no more missing columns\n",
    "missing_counts = vehicle_ad_data.isna().sum()\n",
    "# Display the count of missing values in each column\n",
    "print( missing_counts)"
   ]
  },
  {
   "attachments": {},
   "cell_type": "markdown",
   "metadata": {},
   "source": [
    "### Process Duplicates"
   ]
  },
  {
   "cell_type": "code",
   "execution_count": 160,
   "metadata": {},
   "outputs": [
    {
     "name": "stdout",
     "output_type": "stream",
     "text": [
      "0\n"
     ]
    }
   ],
   "source": [
    "# counting clear dublicates\n",
    "print(vehicle_ad_data.duplicated().sum()) "
   ]
  },
  {
   "attachments": {},
   "cell_type": "markdown",
   "metadata": {},
   "source": [
    "The result indicates that there are no obvious duplicates present in the dataset. However, it is possible that there are implicit duplicates where the model names are written differently. Such errors can impact the accuracy of the results obtained from the analysis."
   ]
  },
  {
   "cell_type": "code",
   "execution_count": 176,
   "metadata": {},
   "outputs": [
    {
     "data": {
      "text/plain": [
       "array(['bmw x5', 'ford f-150', 'hyundai sonata', 'chrysler 200',\n",
       "       'chrysler 300', 'toyota camry', 'honda pilot', 'kia sorento',\n",
       "       'chevrolet silverado 1500', 'honda accord', 'ram 1500',\n",
       "       'gmc yukon', 'jeep cherokee', 'chevrolet traverse',\n",
       "       'hyundai elantra', 'chevrolet tahoe', 'toyota rav4',\n",
       "       'chevrolet silverado', 'jeep wrangler', 'chevrolet malibu',\n",
       "       'ford fusion se', 'chevrolet impala', 'chevrolet corvette',\n",
       "       'jeep liberty', 'toyota camry le', 'nissan altima',\n",
       "       'subaru outback', 'toyota highlander', 'dodge charger',\n",
       "       'toyota tacoma', 'chevrolet equinox', 'nissan rogue',\n",
       "       'mercedes-benz benze sprinter 2500', 'honda cr-v',\n",
       "       'jeep grand cherokee', 'toyota 4runner', 'ford focus',\n",
       "       'honda civic', 'kia soul', 'chevrolet colorado',\n",
       "       'ford f150 supercrew cab xlt', 'chevrolet camaro lt coupe 2d',\n",
       "       'chevrolet cruze', 'ford mustang', 'chevrolet silverado 3500hd',\n",
       "       'nissan frontier crew cab sv', 'subaru impreza',\n",
       "       'jeep grand cherokee laredo', 'nissan versa', 'ford f-250 sd',\n",
       "       'chevrolet silverado 1500 crew', 'ford f250 super duty',\n",
       "       'chevrolet camaro', 'ford mustang gt coupe 2d', 'subaru forester',\n",
       "       'ford explorer', 'ford f-350 sd', 'ford edge', 'nissan maxima',\n",
       "       'ford f-250', 'nissan sentra', 'ford f150', 'chevrolet suburban',\n",
       "       'ford expedition', 'dodge grand caravan', 'ford taurus',\n",
       "       'acura tl', 'ford f350 super duty', 'ford ranger', 'gmc sierra',\n",
       "       'hyundai santa fe', 'ford escape', 'gmc sierra 2500hd',\n",
       "       'honda civic lx', 'gmc sierra 1500', 'honda odyssey',\n",
       "       'cadillac escalade', 'volkswagen jetta', 'toyota corolla',\n",
       "       'chrysler town & country', 'volkswagen passat', 'toyota prius',\n",
       "       'buick enclave', 'ford fusion', 'toyota tundra', 'ram 3500',\n",
       "       'ram 2500', 'nissan frontier', 'chevrolet silverado 2500hd',\n",
       "       'jeep wrangler unlimited', 'ford f-250 super duty', 'gmc acadia',\n",
       "       'toyota sienna', 'ford focus se', 'ford f250', 'dodge dakota',\n",
       "       'ford f350', 'chevrolet trailblazer', 'ford econoline',\n",
       "       'nissan murano'], dtype=object)"
      ]
     },
     "execution_count": 176,
     "metadata": {},
     "output_type": "execute_result"
    }
   ],
   "source": [
    "#viewing unique model name\n",
    "vehicle_ad_data['model'].unique()"
   ]
  },
  {
   "attachments": {},
   "cell_type": "markdown",
   "metadata": {},
   "source": [
    "Based on the 'model' column, we found duplicates for the Ford F-150, Ford F-250 SD, and Ford F-350 SD. The model names ['ford f-150', 'ford f-250 sd', 'ford f-350 sd'] correspond to ['ford f150', 'ford f-250 super duty', 'ford f350 super duty'].\n",
    "To get rid of them, declare the function `replace_wrong_models()` with two parameters: \n",
    "* `wrong_models=` — the list of duplicates\n",
    "* `correct_models=` — the string with the correct value\n",
    "\n",
    "The function should correct the names in the `'model'` column from the `vehicle_ad_data` table.\n"
   ]
  },
  {
   "cell_type": "code",
   "execution_count": null,
   "metadata": {},
   "outputs": [],
   "source": [
    "# function replace implicit duplicates\n",
    "def replace_wrong_models(wrong_models, correct_models):\n",
    "    # Replace the wrong model names with the correct model names\n",
    "    vehicle_ad_data['model'] = vehicle_ad_data['model'].replace(wrong_models, correct_models)\n",
    "    # Print the updated 'model' column\n",
    "    print(vehicle_ad_data['model'])\n"
   ]
  },
  {
   "cell_type": "code",
   "execution_count": null,
   "metadata": {},
   "outputs": [
    {
     "name": "stdout",
     "output_type": "stream",
     "text": [
      "0                bmw x5\n",
      "1            ford f-150\n",
      "2        hyundai sonata\n",
      "3            ford f-150\n",
      "4          chrysler 200\n",
      "              ...      \n",
      "51520     nissan maxima\n",
      "51521       honda civic\n",
      "51522    hyundai sonata\n",
      "51523    toyota corolla\n",
      "51524     nissan altima\n",
      "Name: model, Length: 40840, dtype: object\n"
     ]
    }
   ],
   "source": [
    "#list of wrong model\n",
    "wrong_models=['ford f150', 'ford f-250 super duty', 'ford f350 super duty']\n",
    "#list of correct model\n",
    "correct_models=['ford f-150', 'ford f-250 sd', 'ford f-350 sd']\n",
    "#call of the function to replace wrong models\n",
    "replace_wrong_models(wrong_models, correct_models)"
   ]
  },
  {
   "attachments": {},
   "cell_type": "markdown",
   "metadata": {},
   "source": [
    "Last but not least, we prefer to have a unique combinations of 'price', 'model_year', 'model', and 'odometer' values which will eliminate  duplicate data. As duplicate data can be a sign of data quality issues, such as data entry errors or data duplication during merging or importing processes. Identifying and removing duplicates improves the overall quality of the dataset."
   ]
  },
  {
   "cell_type": "code",
   "execution_count": null,
   "metadata": {},
   "outputs": [
    {
     "name": "stdout",
     "output_type": "stream",
     "text": [
      "<class 'pandas.core.frame.DataFrame'>\n",
      "Index: 40699 entries, 0 to 51524\n",
      "Data columns (total 13 columns):\n",
      " #   Column        Non-Null Count  Dtype  \n",
      "---  ------        --------------  -----  \n",
      " 0   price         40699 non-null  int64  \n",
      " 1   model_year    40699 non-null  float64\n",
      " 2   model         40699 non-null  object \n",
      " 3   condition     40699 non-null  object \n",
      " 4   cylinders     40699 non-null  float64\n",
      " 5   fuel          40699 non-null  object \n",
      " 6   odometer      40699 non-null  float64\n",
      " 7   transmission  40699 non-null  object \n",
      " 8   type          40699 non-null  object \n",
      " 9   paint_color   40699 non-null  object \n",
      " 10  is_4wd        40699 non-null  int32  \n",
      " 11  date_posted   40699 non-null  object \n",
      " 12  days_listed   40699 non-null  int64  \n",
      "dtypes: float64(3), int32(1), int64(2), object(7)\n",
      "memory usage: 4.2+ MB\n"
     ]
    }
   ],
   "source": [
    "#Drop duplicates\n",
    "vehicle_ad_data = vehicle_ad_data.drop_duplicates(subset=['model','price', 'model_year', 'model', 'odometer'])\n",
    "vehicle_ad_data.info()\n"
   ]
  },
  {
   "attachments": {},
   "cell_type": "markdown",
   "metadata": {},
   "source": [
    "### Data replacement"
   ]
  },
  {
   "cell_type": "code",
   "execution_count": 180,
   "metadata": {},
   "outputs": [
    {
     "data": {
      "text/plain": [
       "price                    int64\n",
       "model_year               int32\n",
       "model                   object\n",
       "condition               object\n",
       "cylinders                int32\n",
       "fuel                    object\n",
       "odometer                 int32\n",
       "transmission            object\n",
       "type                    object\n",
       "paint_color             object\n",
       "is_4wd                   int32\n",
       "date_posted     datetime64[ns]\n",
       "days_listed              int64\n",
       "year_posted              int32\n",
       "Car_Age                  int64\n",
       "Car_mileage              Int64\n",
       "dtype: object"
      ]
     },
     "execution_count": 180,
     "metadata": {},
     "output_type": "execute_result"
    }
   ],
   "source": [
    "#check data type\n",
    "vehicle_ad_data.dtypes"
   ]
  },
  {
   "attachments": {},
   "cell_type": "markdown",
   "metadata": {},
   "source": [
    "model_year: The model_year column is currently represented as a float64 data type. To plot a histogram or scatterplot based on the model year, it is generally more appropriate to convert it to an integer data type. This allows for better visualization and interpretation of the data, as model years are typically represented as whole numbers.\n",
    "\n",
    "cylinders: The cylinders column is currently represented as a float64 data type. However, since the number of cylinders in a vehicle is typically a discrete value, it is often more appropriate to convert it to an integer data type for plotting purposes. This ensures that the data is displayed accurately without decimal places.\n",
    "\n",
    "odometer: The odometer column is currently represented as a float64 data type, which indicates a continuous numerical value. To plot a histogram or scatterplot based on the odometer reading, it is common to keep it as a numerical value rather than converting it to a different data type.\n",
    "\n",
    "date_posted: The date_posted column is currently represented as an object data type, which typically indicates a string or generic object. To plot data over time or analyze temporal patterns, it is advisable to convert this column to a datetime data type. This allows for easier manipulation, sorting, and visualization of the dates."
   ]
  },
  {
   "cell_type": "code",
   "execution_count": 174,
   "metadata": {},
   "outputs": [],
   "source": [
    "#Replaceing data type for model_year category to int\n",
    "vehicle_ad_data['model_year'] = vehicle_ad_data['model_year'].astype(int)\n",
    "#Replaceing data type for cylinders category to int\n",
    "vehicle_ad_data['cylinders'] = vehicle_ad_data['cylinders'].astype(int)\n",
    "#Replaceing data type for odometer category to int\n",
    "vehicle_ad_data['odometer'] = vehicle_ad_data['odometer'].astype(int)\n",
    "#Replacing data type for date_posted into datetime type\n",
    "vehicle_ad_data['date_posted']=pd.to_datetime(vehicle_ad_data['date_posted'])"
   ]
  },
  {
   "cell_type": "code",
   "execution_count": 175,
   "metadata": {},
   "outputs": [
    {
     "data": {
      "text/plain": [
       "price                    int64\n",
       "model_year               int32\n",
       "model                   object\n",
       "condition               object\n",
       "cylinders                int32\n",
       "fuel                    object\n",
       "odometer                 int32\n",
       "transmission            object\n",
       "type                    object\n",
       "paint_color             object\n",
       "is_4wd                   int32\n",
       "date_posted     datetime64[ns]\n",
       "days_listed              int64\n",
       "dtype: object"
      ]
     },
     "execution_count": 175,
     "metadata": {},
     "output_type": "execute_result"
    }
   ],
   "source": [
    "# Check for data type again\n",
    "#Checking data types\n",
    "vehicle_ad_data.dtypes"
   ]
  },
  {
   "attachments": {},
   "cell_type": "markdown",
   "metadata": {},
   "source": [
    "### Make Calculation and Enrich the data"
   ]
  },
  {
   "cell_type": "code",
   "execution_count": 245,
   "metadata": {},
   "outputs": [
    {
     "name": "stdout",
     "output_type": "stream",
     "text": [
      "[2 4 1 3 0 5]\n"
     ]
    }
   ],
   "source": [
    "#  Change the condition values with something that can be manipulated more easily\n",
    "vehicle_ad_data.loc[:, 'condition'] = vehicle_ad_data['condition'].replace(\n",
    "    to_replace=['new', 'like new', 'excellent', 'good', 'fair', 'salvage'],\n",
    "    value=[5, 4, 3, 2, 1, 0]\n",
    ")\n",
    "\n",
    "# Check unique values in the 'condition' column\n",
    "unique_conditions = vehicle_ad_data['condition'].unique()\n",
    "print(unique_conditions)\n"
   ]
  },
  {
   "cell_type": "code",
   "execution_count": 187,
   "metadata": {},
   "outputs": [
    {
     "data": {
      "text/plain": [
       "array([  8,   7,  17,   3,   5,   4,  12,   2,  11,   6,   9,   1,  10,\n",
       "        16,  15,  14,  18,  13,  54,  25,  19,  20,  27,  23,  39,  21,\n",
       "        24,  45,  22,  26,  34,  43,  32,  44,  30,  29,  47,  53,  50,\n",
       "        31,  41,  55,  40,  51,  28,  33,  56,  38,  57,  35,  46,  42,\n",
       "        52,  64,  48,  49,  37,  36,  66,  58,  72,  59,  60, 111,  83,\n",
       "        70,  61,  90], dtype=int64)"
      ]
     },
     "execution_count": 187,
     "metadata": {},
     "output_type": "execute_result"
    }
   ],
   "source": [
    "#add the age of the car\n",
    "# first isolate 'year' from 'date_posted' column\n",
    "vehicle_ad_data['year_posted'] = vehicle_ad_data['date_posted'].dt.year\n",
    "# create a function that calculate car age\n",
    "def calculate_car_age(row):\n",
    "    return (row['year_posted'] - row['model_year'])+1\n",
    "\n",
    "vehicle_ad_data['Car_Age'] = vehicle_ad_data.apply(calculate_car_age, axis=1)\n",
    "\n",
    "vehicle_ad_data['Car_Age'].unique()\n"
   ]
  },
  {
   "attachments": {},
   "cell_type": "markdown",
   "metadata": {},
   "source": [
    "Mileage is a crucial factor that can significantly impact the price of a car. Generally, higher mileage tends to lower the price. To calculate the car's mileage, we utilize the following function:\n",
    "\n",
    "vehicle_data['Car_mileage'] = vehicle_data['odometer'] / (vehicle_data['year_posted'] - vehicle_data['model_year'])\n",
    "\n",
    "In this function, we include a \"+1\" to the equation row['year_posted'] - row['model_year']. This addition ensures that we avoid infinite values for 'Car_mileage'. Without this adjustment, if there are 'Car_age' values of 0, the equation would result in division by zero, which is undefined."
   ]
  },
  {
   "cell_type": "code",
   "execution_count": 219,
   "metadata": {},
   "outputs": [
    {
     "name": "stdout",
     "output_type": "stream",
     "text": [
      "<class 'pandas.core.frame.DataFrame'>\n",
      "RangeIndex: 51525 entries, 0 to 51524\n",
      "Data columns (total 17 columns):\n",
      " #   Column        Non-Null Count  Dtype          \n",
      "---  ------        --------------  -----          \n",
      " 0   price         51525 non-null  int64          \n",
      " 1   model_year    51525 non-null  int32          \n",
      " 2   model         51525 non-null  object         \n",
      " 3   condition     51525 non-null  object         \n",
      " 4   cylinders     51525 non-null  int32          \n",
      " 5   fuel          51525 non-null  object         \n",
      " 6   odometer      51525 non-null  int32          \n",
      " 7   transmission  51525 non-null  object         \n",
      " 8   type          51525 non-null  object         \n",
      " 9   paint_color   51525 non-null  object         \n",
      " 10  is_4wd        51525 non-null  int32          \n",
      " 11  date_posted   51525 non-null  datetime64[ns] \n",
      " 12  days_listed   51525 non-null  timedelta64[ns]\n",
      " 13  year_posted   51525 non-null  int32          \n",
      " 14  Car_Age       51525 non-null  int64          \n",
      " 15  Car_mileage   49373 non-null  float64        \n",
      " 16  ad_duration   51525 non-null  datetime64[ns] \n",
      "dtypes: datetime64[ns](2), float64(1), int32(5), int64(2), object(6), timedelta64[ns](1)\n",
      "memory usage: 5.7+ MB\n"
     ]
    },
    {
     "data": {
      "text/plain": [
       "array([   6,    4,    8, 2009, 2010,    5, 2008, 2004, 2012, 2015, 2017,\n",
       "       2007, 2013, 2011,   10, 2014, 1997, 2006,    3, 2003,   12])"
      ]
     },
     "execution_count": 219,
     "metadata": {},
     "output_type": "execute_result"
    }
   ],
   "source": [
    "# Add 'Car_mileage' and handle non-finite values\n",
    "vehicle_ad_data['Car_mileage'] = vehicle_ad_data['odometer'] / (vehicle_ad_data['year_posted'] - vehicle_ad_data['model_year'])\n",
    "vehicle_ad_data['Car_mileage'].replace([np.inf, -np.inf], np.nan, inplace=True)\n",
    "\n",
    "# Round 'Car_mileage' to remove decimal places\n",
    "vehicle_ad_data['Car_mileage'] = vehicle_ad_data['Car_mileage'].round()\n",
    "\n",
    "# Check the data type of 'Car_mileage'\n",
    "vehicle_ad_data['Car_mileage'].dtypes\n",
    "#Verify new columns\n",
    "vehicle_ad_data.head()\n",
    "vehicle_ad_data.info()\n",
    "vehicle_ad_data['cylinders'].unique()"
   ]
  },
  {
   "attachments": {},
   "cell_type": "markdown",
   "metadata": {},
   "source": [
    "### Exploratory data analysis"
   ]
  },
  {
   "attachments": {},
   "cell_type": "markdown",
   "metadata": {},
   "source": [
    "After informing your boss about completing the data cleaning process, your manager promptly provides you with specific parameters to prioritize. These parameters include: \n",
    "\n",
    "-price \n",
    "\n",
    "-Car_Age \n",
    "\n",
    "-Car_mileage \n",
    "\n",
    "-cylinders\n",
    "\n",
    "-Conditions\n",
    " \n",
    "To ensure a focused analysis, your manager suggests eliminating any outliers from the dataset. Additionally, your manager advises narrowing the analysis to only the two or three most frequently advertised types of vehicles on the website. By narrowing the focus to these specific types, you can obtain valuable insights and make informed decisions based on the most prevalent and relevant vehicles in your dataset. This targeted approach will enable you to extract meaningful patterns and trends from the data, leading to more accurate and actionable conclusions."
   ]
  },
  {
   "cell_type": "code",
   "execution_count": 243,
   "metadata": {},
   "outputs": [
    {
     "data": {
      "image/png": "[encoded data removed]",
      "text/plain": [
       "<Figure size 640x480 with 1 Axes>"
      ]
     },
     "metadata": {},
     "output_type": "display_data"
    },
    {
     "data": {
      "image/png": "[encoded data removed]",
      "text/plain": [
       "<Figure size 640x480 with 1 Axes>"
      ]
     },
     "metadata": {},
     "output_type": "display_data"
    },
    {
     "data": {
      "image/png": "[encoded data removed]",
      "text/plain": [
       "<Figure size 640x480 with 1 Axes>"
      ]
     },
     "metadata": {},
     "output_type": "display_data"
    },
    {
     "data": {
      "image/png": "[encoded data removed]",
      "text/plain": [
       "<Figure size 640x480 with 1 Axes>"
      ]
     },
     "metadata": {},
     "output_type": "display_data"
    },
    {
     "data": {
      "image/png": "[encoded data removed]",
      "text/plain": [
       "<Figure size 640x480 with 1 Axes>"
      ]
     },
     "metadata": {},
     "output_type": "display_data"
    }
   ],
   "source": [
    "#data distribution for price\n",
    "sns.histplot(vehicle_ad_data, x='price')\n",
    "plt.show()\n",
    "#data distribution for Car_Age\n",
    "sns.histplot(vehicle_ad_data, x='Car_Age')\n",
    "plt.show()\n",
    "#data distribution for Car_mileage\n",
    "sns.histplot(vehicle_ad_data, x='Car_mileage')\n",
    "plt.show()\n",
    "#data distribution for cylinders\n",
    "sns.countplot(x=vehicle_ad_data['cylinders'])\n",
    "plt.show()\n",
    "#data distribution for condition\n",
    "sns.countplot(data=vehicle_ad_data, x='condition')\n",
    "plt.show()\n"
   ]
  },
  {
   "attachments": {},
   "cell_type": "markdown",
   "metadata": {},
   "source": [
    "The last two variables:condition,cylinders are categorical, meaning they have a limited number of distinct values. Therefore, there is no need to make any changes to their data range. However, the first three variables, price, Car_Age, and Car_mileage, follow a Poisson distribution. This distribution reveals an interesting pattern in the data. Initially, the counts are relatively small, but they rapidly increase until reaching a peak in the first tenth area. Afterward, the counts gradually diminish.\n",
    "\n",
    "To further analyze these variables, we can create boxplot distributions for price, Car_Age, and Car_mileage. The boxplot provides visual insights into the distribution of these variables, including measures of central tendency, dispersion, and potential outliers. By examining the boxplots, we can gain a better understanding of the overall range and distribution of these variables in our dataset.\n"
   ]
  },
  {
   "cell_type": "code",
   "execution_count": 247,
   "metadata": {},
   "outputs": [
    {
     "data": {
      "image/png": "[encoded data removed]",
      "text/plain": [
       "<Figure size 640x480 with 1 Axes>"
      ]
     },
     "metadata": {},
     "output_type": "display_data"
    },
    {
     "data": {
      "image/png": "[encoded data removed]",
      "text/plain": [
       "<Figure size 640x480 with 1 Axes>"
      ]
     },
     "metadata": {},
     "output_type": "display_data"
    },
    {
     "data": {
      "image/png": "[encoded data removed]",
      "text/plain": [
       "<Figure size 640x480 with 1 Axes>"
      ]
     },
     "metadata": {},
     "output_type": "display_data"
    }
   ],
   "source": [
    "#box plot for price\n",
    "sns.boxplot(data=vehicle_ad_data, x='price')\n",
    "plt.show()\n",
    "#box plot for Car_Age\n",
    "sns.boxplot(data=vehicle_ad_data, x='Car_Age')\n",
    "plt.show()\n",
    "sns.boxplot(data=vehicle_ad_data, x='Car_mileage')\n",
    "plt.show()"
   ]
  },
  {
   "attachments": {},
   "cell_type": "markdown",
   "metadata": {},
   "source": [
    "These columns price, Car_Age, and Car_mileage. have a lot of outliers to be removed.Let removed them."
   ]
  },
  {
   "cell_type": "code",
   "execution_count": 254,
   "metadata": {},
   "outputs": [],
   "source": [
    "# Calculate z-scores for the columns\n",
    "z_scores = (vehicle_ad_data[['price', 'Car_Age', 'Car_mileage']] - vehicle_ad_data[['price', 'Car_Age', 'Car_mileage']].mean()) / vehicle_ad_data[['price', 'Car_Age', 'Car_mileage']].std()\n",
    "\n",
    "# Define threshold for outliers (e.g., z-score greater than 3)\n",
    "outlier_threshold = 3\n",
    "\n",
    "# Filter the DataFrame to exclude rows with outliers\n",
    "Vehicle_Ad_data_no_outliers = vehicle_ad_data[(z_scores.abs() < outlier_threshold).all(axis=1)]"
   ]
  },
  {
   "attachments": {},
   "cell_type": "markdown",
   "metadata": {},
   "source": [
    "Let check the result by using the box plot again.\n"
   ]
  },
  {
   "cell_type": "code",
   "execution_count": 255,
   "metadata": {},
   "outputs": [
    {
     "data": {
      "image/png": "[encoded data removed]",
      "text/plain": [
       "<Figure size 640x480 with 1 Axes>"
      ]
     },
     "metadata": {},
     "output_type": "display_data"
    },
    {
     "data": {
      "image/png": "[encoded data removed]",
      "text/plain": [
       "<Figure size 640x480 with 1 Axes>"
      ]
     },
     "metadata": {},
     "output_type": "display_data"
    },
    {
     "data": {
      "image/png": "[encoded data removed]",
      "text/plain": [
       "<Figure size 640x480 with 1 Axes>"
      ]
     },
     "metadata": {},
     "output_type": "display_data"
    }
   ],
   "source": [
    "#box plot for price\n",
    "sns.boxplot(data=vehicle_ad_data, x='price')\n",
    "plt.show()\n",
    "#box plot for Car_Age\n",
    "sns.boxplot(data=vehicle_ad_data, x='Car_Age')\n",
    "plt.show()\n",
    "sns.boxplot(data=vehicle_ad_data, x='Car_mileage')\n",
    "plt.show()"
   ]
  },
  {
   "attachments": {},
   "cell_type": "markdown",
   "metadata": {},
   "source": []
  },
  {
   "cell_type": "code",
   "execution_count": null,
   "metadata": {},
   "outputs": [],
   "source": []
  }
 ],
 "metadata": {
  "kernelspec": {
   "display_name": "Python 3",
   "language": "python",
   "name": "python3"
  },
  "language_info": {
   "codemirror_mode": {
    "name": "ipython",
    "version": 3
   },
   "file_extension": ".py",
   "mimetype": "text/x-python",
   "name": "python",
   "nbconvert_exporter": "python",
   "pygments_lexer": "ipython3",
   "version": "3.11.4"
  },
  "orig_nbformat": 4
 },
 "nbformat": 4,
 "nbformat_minor": 2
}
